{
 "cells": [
  {
   "cell_type": "markdown",
   "id": "557b86c8",
   "metadata": {},
   "source": [
    "## Personal Task1"
   ]
  },
  {
   "cell_type": "markdown",
   "id": "dc1b2de6",
   "metadata": {},
   "source": [
    "<b>1. Python program to Create a excel file<b>"
   ]
  },
  {
   "cell_type": "code",
   "execution_count": 1,
   "id": "e60c43c1",
   "metadata": {},
   "outputs": [],
   "source": [
    "# !pip install xlsxwriter\n",
    "\n",
    "#importing xlsxwriter module \n",
    "import xlsxwriter "
   ]
  },
  {
   "cell_type": "code",
   "execution_count": 2,
   "id": "29b1a1a3",
   "metadata": {},
   "outputs": [],
   "source": [
    "#Creating new excel file \n",
    "workbook= xlsxwriter.Workbook(\"YoshopsTask1.xlsx\")\n"
   ]
  },
  {
   "cell_type": "code",
   "execution_count": 3,
   "id": "14667d48",
   "metadata": {},
   "outputs": [],
   "source": [
    "#writing in Excel file worksheet \n",
    "worksheet = workbook.add_worksheet()\n",
    "worksheet.write('A1','Yoshops idea is to create India’s most reliable and regeniable price E-commerce ecosystem')\n",
    "workbook.close()"
   ]
  },
  {
   "cell_type": "code",
   "execution_count": null,
   "id": "a49168c0",
   "metadata": {},
   "outputs": [],
   "source": []
  },
  {
   "cell_type": "markdown",
   "id": "ae6cccae",
   "metadata": {},
   "source": [
    "<b>2. Python program for Import data from an excel file<b>"
   ]
  },
  {
   "cell_type": "code",
   "execution_count": 4,
   "id": "aee6d246",
   "metadata": {
    "scrolled": true
   },
   "outputs": [
    {
     "data": {
      "text/html": [
       "<div>\n",
       "<style scoped>\n",
       "    .dataframe tbody tr th:only-of-type {\n",
       "        vertical-align: middle;\n",
       "    }\n",
       "\n",
       "    .dataframe tbody tr th {\n",
       "        vertical-align: top;\n",
       "    }\n",
       "\n",
       "    .dataframe thead th {\n",
       "        text-align: right;\n",
       "    }\n",
       "</style>\n",
       "<table border=\"1\" class=\"dataframe\">\n",
       "  <thead>\n",
       "    <tr style=\"text-align: right;\">\n",
       "      <th></th>\n",
       "      <th>S.NO</th>\n",
       "      <th>Submission</th>\n",
       "      <th>1. Name</th>\n",
       "      <th>3. Location , City Name</th>\n",
       "      <th>4.  Tution for your Kids</th>\n",
       "      <th>5. Study in Class</th>\n",
       "      <th>6. Which Price range for Tution Monthly Fees You like must</th>\n",
       "      <th>7. Laptop and Mobile which Price range you like most</th>\n",
       "      <th>8. Do you like biriyani and which biriyani you like the most</th>\n",
       "      <th>9. What is Price Rang for 1kg Biryani  you like must</th>\n",
       "      <th>10. Which Financial products you like most</th>\n",
       "      <th>11. Any IDEA or Suggestions for Yoshops Startup</th>\n",
       "    </tr>\n",
       "  </thead>\n",
       "  <tbody>\n",
       "    <tr>\n",
       "      <th>0</th>\n",
       "      <td>1</td>\n",
       "      <td>24-11-2022</td>\n",
       "      <td>Kavita Israni</td>\n",
       "      <td>No answer</td>\n",
       "      <td>Offline Class room</td>\n",
       "      <td>No answer</td>\n",
       "      <td>Rs.501 to 999</td>\n",
       "      <td>No answer</td>\n",
       "      <td>Veg Biryani  | Paneer Tikka Biryani</td>\n",
       "      <td>149 | 199</td>\n",
       "      <td>Mutual Fund SIP (ROI 12%)-1yr</td>\n",
       "      <td>No Answer</td>\n",
       "    </tr>\n",
       "    <tr>\n",
       "      <th>1</th>\n",
       "      <td>2</td>\n",
       "      <td>24-11-2022</td>\n",
       "      <td>Kunal Anand</td>\n",
       "      <td>No answer</td>\n",
       "      <td>Offline Class room</td>\n",
       "      <td>No answer</td>\n",
       "      <td>Rs.1 to Rs.499</td>\n",
       "      <td>No answer</td>\n",
       "      <td>Chicken Biryani</td>\n",
       "      <td>149</td>\n",
       "      <td>Company Stock IPO(ROI 15%)-1yr</td>\n",
       "      <td>No Answer</td>\n",
       "    </tr>\n",
       "    <tr>\n",
       "      <th>2</th>\n",
       "      <td>3</td>\n",
       "      <td>25-11-2022</td>\n",
       "      <td>Deepak parmal</td>\n",
       "      <td>No answer</td>\n",
       "      <td>Online Zoom meeting</td>\n",
       "      <td>Graduation with Internship</td>\n",
       "      <td>Rs.1 to Rs.499</td>\n",
       "      <td>No answer</td>\n",
       "      <td>Chicken Biryani</td>\n",
       "      <td>99</td>\n",
       "      <td>Yoshops Franchise Investment(ROI 20%)-1yr</td>\n",
       "      <td>Management should be better, I Think If you wo...</td>\n",
       "    </tr>\n",
       "    <tr>\n",
       "      <th>3</th>\n",
       "      <td>4</td>\n",
       "      <td>25-11-2022</td>\n",
       "      <td>Nidhi Gupta</td>\n",
       "      <td>No answer</td>\n",
       "      <td>Online Zoom meeting  | Offline Class room</td>\n",
       "      <td>LKG to STD 5 | STD 6 to STD 10</td>\n",
       "      <td>Rs.1001 to 1499</td>\n",
       "      <td>No answer</td>\n",
       "      <td>Chicken Biryani</td>\n",
       "      <td>149</td>\n",
       "      <td>Bank FD(Rate of Interest- 7%)-1yr</td>\n",
       "      <td>No</td>\n",
       "    </tr>\n",
       "    <tr>\n",
       "      <th>4</th>\n",
       "      <td>5</td>\n",
       "      <td>25-11-2022</td>\n",
       "      <td>Rohan Pandey</td>\n",
       "      <td>No answer</td>\n",
       "      <td>Online Zoom meeting</td>\n",
       "      <td>STD 6 to STD 10</td>\n",
       "      <td>Rs.1001 to 1499</td>\n",
       "      <td>No answer</td>\n",
       "      <td>Chicken Biryani</td>\n",
       "      <td>149</td>\n",
       "      <td>Bank FD(Rate of Interest- 7%)-1yr</td>\n",
       "      <td>Marketing</td>\n",
       "    </tr>\n",
       "    <tr>\n",
       "      <th>...</th>\n",
       "      <td>...</td>\n",
       "      <td>...</td>\n",
       "      <td>...</td>\n",
       "      <td>...</td>\n",
       "      <td>...</td>\n",
       "      <td>...</td>\n",
       "      <td>...</td>\n",
       "      <td>...</td>\n",
       "      <td>...</td>\n",
       "      <td>...</td>\n",
       "      <td>...</td>\n",
       "      <td>...</td>\n",
       "    </tr>\n",
       "    <tr>\n",
       "      <th>468</th>\n",
       "      <td>469</td>\n",
       "      <td>14-12-2022</td>\n",
       "      <td>Shahid khan</td>\n",
       "      <td>Sonebhadra</td>\n",
       "      <td>Offline Class room</td>\n",
       "      <td>Graduation with Internship</td>\n",
       "      <td>Rs.1 to Rs.499 | Rs.501 to 999</td>\n",
       "      <td>Rs.5000 to Rs.15000</td>\n",
       "      <td>Veg Biryani</td>\n",
       "      <td>99 | 149</td>\n",
       "      <td>No Answer</td>\n",
       "      <td>No</td>\n",
       "    </tr>\n",
       "    <tr>\n",
       "      <th>469</th>\n",
       "      <td>470</td>\n",
       "      <td>14-12-2022</td>\n",
       "      <td>Umme Kulsoom</td>\n",
       "      <td>Bareilly</td>\n",
       "      <td>Online Zoom meeting</td>\n",
       "      <td>Post Graduation with Internship</td>\n",
       "      <td>Rs.501 to 999 | Rs.1001 to 1499</td>\n",
       "      <td>Rs15000 to Rs.30000 | Rs.31000 to Rs.50000</td>\n",
       "      <td>Chicken Biryani</td>\n",
       "      <td>199</td>\n",
       "      <td>No Answer</td>\n",
       "      <td>No</td>\n",
       "    </tr>\n",
       "    <tr>\n",
       "      <th>470</th>\n",
       "      <td>471</td>\n",
       "      <td>14-12-2022</td>\n",
       "      <td>Dinanath Patil</td>\n",
       "      <td>Mulund</td>\n",
       "      <td>Offline Class room</td>\n",
       "      <td>11th and 12th JEE preparation</td>\n",
       "      <td>Rs.501 to 999</td>\n",
       "      <td>Rs.5000 to Rs.15000</td>\n",
       "      <td>Fish Biryani</td>\n",
       "      <td>149</td>\n",
       "      <td>Post office RD (Rate of Interest- 6%)-1yr</td>\n",
       "      <td>No</td>\n",
       "    </tr>\n",
       "    <tr>\n",
       "      <th>471</th>\n",
       "      <td>472</td>\n",
       "      <td>14-12-2022</td>\n",
       "      <td>Yash vardhan singh tomar</td>\n",
       "      <td>Gwalior</td>\n",
       "      <td>Online Zoom meeting  | Offline Class room</td>\n",
       "      <td>Graduation with Internship</td>\n",
       "      <td>Rs.1001 to 1499 | Rs.1501 to 1999</td>\n",
       "      <td>Rs.31000 to Rs.50000 | Rs.51000 to Rs.100000</td>\n",
       "      <td>Veg Biryani</td>\n",
       "      <td>149 | 199</td>\n",
       "      <td>Mutual Fund SIP (ROI 12%)-1yr</td>\n",
       "      <td>Good company</td>\n",
       "    </tr>\n",
       "    <tr>\n",
       "      <th>472</th>\n",
       "      <td>473</td>\n",
       "      <td>14-12-2022</td>\n",
       "      <td>Sanjay</td>\n",
       "      <td>Ghatkopar</td>\n",
       "      <td>Offline Class room</td>\n",
       "      <td>11th and 12th JEE preparation</td>\n",
       "      <td>Rs.1501 to 1999</td>\n",
       "      <td>Rs.31000 to Rs.50000</td>\n",
       "      <td>Chicken Biryani  | Paneer Tikka Biryani</td>\n",
       "      <td>199 | 249</td>\n",
       "      <td>Mutual Fund SIP (ROI 12%)-1yr | Company Stock ...</td>\n",
       "      <td>No</td>\n",
       "    </tr>\n",
       "  </tbody>\n",
       "</table>\n",
       "<p>473 rows × 12 columns</p>\n",
       "</div>"
      ],
      "text/plain": [
       "     S.NO  Submission                   1. Name 3. Location , City Name  \\\n",
       "0       1  24-11-2022             Kavita Israni               No answer   \n",
       "1       2  24-11-2022               Kunal Anand               No answer   \n",
       "2       3  25-11-2022             Deepak parmal               No answer   \n",
       "3       4  25-11-2022               Nidhi Gupta               No answer   \n",
       "4       5  25-11-2022              Rohan Pandey               No answer   \n",
       "..    ...         ...                       ...                     ...   \n",
       "468   469  14-12-2022               Shahid khan              Sonebhadra   \n",
       "469   470  14-12-2022              Umme Kulsoom                Bareilly   \n",
       "470   471  14-12-2022            Dinanath Patil                  Mulund   \n",
       "471   472  14-12-2022  Yash vardhan singh tomar                 Gwalior   \n",
       "472   473  14-12-2022                    Sanjay               Ghatkopar   \n",
       "\n",
       "                      4.  Tution for your Kids  \\\n",
       "0                           Offline Class room   \n",
       "1                           Offline Class room   \n",
       "2                         Online Zoom meeting    \n",
       "3    Online Zoom meeting  | Offline Class room   \n",
       "4                         Online Zoom meeting    \n",
       "..                                         ...   \n",
       "468                         Offline Class room   \n",
       "469                       Online Zoom meeting    \n",
       "470                         Offline Class room   \n",
       "471  Online Zoom meeting  | Offline Class room   \n",
       "472                         Offline Class room   \n",
       "\n",
       "                   5. Study in Class   \\\n",
       "0                           No answer   \n",
       "1                           No answer   \n",
       "2         Graduation with Internship    \n",
       "3      LKG to STD 5 | STD 6 to STD 10   \n",
       "4                     STD 6 to STD 10   \n",
       "..                                ...   \n",
       "468       Graduation with Internship    \n",
       "469  Post Graduation with Internship    \n",
       "470    11th and 12th JEE preparation    \n",
       "471       Graduation with Internship    \n",
       "472    11th and 12th JEE preparation    \n",
       "\n",
       "    6. Which Price range for Tution Monthly Fees You like must  \\\n",
       "0                                        Rs.501 to 999           \n",
       "1                                       Rs.1 to Rs.499           \n",
       "2                                       Rs.1 to Rs.499           \n",
       "3                                      Rs.1001 to 1499           \n",
       "4                                      Rs.1001 to 1499           \n",
       "..                                                 ...           \n",
       "468                     Rs.1 to Rs.499 | Rs.501 to 999           \n",
       "469                    Rs.501 to 999 | Rs.1001 to 1499           \n",
       "470                                      Rs.501 to 999           \n",
       "471                  Rs.1001 to 1499 | Rs.1501 to 1999           \n",
       "472                                    Rs.1501 to 1999           \n",
       "\n",
       "    7. Laptop and Mobile which Price range you like most  \\\n",
       "0                                            No answer     \n",
       "1                                            No answer     \n",
       "2                                            No answer     \n",
       "3                                            No answer     \n",
       "4                                            No answer     \n",
       "..                                                 ...     \n",
       "468                                Rs.5000 to Rs.15000     \n",
       "469         Rs15000 to Rs.30000 | Rs.31000 to Rs.50000     \n",
       "470                                Rs.5000 to Rs.15000     \n",
       "471       Rs.31000 to Rs.50000 | Rs.51000 to Rs.100000     \n",
       "472                               Rs.31000 to Rs.50000     \n",
       "\n",
       "    8. Do you like biriyani and which biriyani you like the most  \\\n",
       "0                 Veg Biryani  | Paneer Tikka Biryani              \n",
       "1                                     Chicken Biryani              \n",
       "2                                     Chicken Biryani              \n",
       "3                                     Chicken Biryani              \n",
       "4                                     Chicken Biryani              \n",
       "..                                                 ...             \n",
       "468                                       Veg Biryani              \n",
       "469                                   Chicken Biryani              \n",
       "470                                      Fish Biryani              \n",
       "471                                       Veg Biryani              \n",
       "472           Chicken Biryani  | Paneer Tikka Biryani              \n",
       "\n",
       "    9. What is Price Rang for 1kg Biryani  you like must   \\\n",
       "0                                            149 | 199      \n",
       "1                                                  149      \n",
       "2                                                   99      \n",
       "3                                                  149      \n",
       "4                                                  149      \n",
       "..                                                 ...      \n",
       "468                                           99 | 149      \n",
       "469                                                199      \n",
       "470                                                149      \n",
       "471                                          149 | 199      \n",
       "472                                          199 | 249      \n",
       "\n",
       "            10. Which Financial products you like most  \\\n",
       "0                        Mutual Fund SIP (ROI 12%)-1yr   \n",
       "1                       Company Stock IPO(ROI 15%)-1yr   \n",
       "2            Yoshops Franchise Investment(ROI 20%)-1yr   \n",
       "3                    Bank FD(Rate of Interest- 7%)-1yr   \n",
       "4                    Bank FD(Rate of Interest- 7%)-1yr   \n",
       "..                                                 ...   \n",
       "468                                          No Answer   \n",
       "469                                          No Answer   \n",
       "470          Post office RD (Rate of Interest- 6%)-1yr   \n",
       "471                      Mutual Fund SIP (ROI 12%)-1yr   \n",
       "472  Mutual Fund SIP (ROI 12%)-1yr | Company Stock ...   \n",
       "\n",
       "      11. Any IDEA or Suggestions for Yoshops Startup   \n",
       "0                                            No Answer  \n",
       "1                                            No Answer  \n",
       "2    Management should be better, I Think If you wo...  \n",
       "3                                                   No  \n",
       "4                                            Marketing  \n",
       "..                                                 ...  \n",
       "468                                                 No  \n",
       "469                                                 No  \n",
       "470                                                 No  \n",
       "471                                       Good company  \n",
       "472                                                 No  \n",
       "\n",
       "[473 rows x 12 columns]"
      ]
     },
     "execution_count": 4,
     "metadata": {},
     "output_type": "execute_result"
    }
   ],
   "source": [
    "import pandas as pd\n",
    "df=pd.read_excel(\"Yoshops YouTube Survey-473_14_Dec_2022_updated.xlsx\")\n",
    "df"
   ]
  },
  {
   "cell_type": "code",
   "execution_count": null,
   "id": "3cdcfeab",
   "metadata": {},
   "outputs": [],
   "source": []
  },
  {
   "cell_type": "markdown",
   "id": "77905886",
   "metadata": {},
   "source": [
    "<b>3.  Python program for Format data in excel sheet<b>"
   ]
  },
  {
   "cell_type": "code",
   "execution_count": 5,
   "id": "c2abc930",
   "metadata": {},
   "outputs": [],
   "source": [
    "import openpyxl\n",
    "import re as re\n",
    "import os as os\n",
    "from openpyxl.styles import numbers\n",
    "from openpyxl.styles import Font, Color"
   ]
  },
  {
   "cell_type": "code",
   "execution_count": 6,
   "id": "05b6d4f1",
   "metadata": {},
   "outputs": [],
   "source": [
    "wb=openpyxl.load_workbook(\"Yoshops YouTube Survey-473_14_Dec_2022_updated.xlsx\")\n",
    "ws=wb['Responses']\n",
    "ws['B1']= 'Submission'\n",
    "wb.save(\"Yoshops YouTube Survey-473_14_Dec_2022_updated.xlsx\")\n",
    "\n",
    "##BOLD HEADERS\n",
    "Font_style=Font(name=\"Calibri\",size=14,bold=True,color=\"661111\")\n",
    "a4=ws['B1']\n",
    "a4.font=Font_style\n",
    "wb.save(\"Yoshops YouTube Survey-473_14_Dec_2022_updated.xlsx\")\n",
    "for  i in range (1,8):\n",
    "    ws.cell(row=1,column=i).font=Font_style\n",
    "    \n",
    "wb.save(\"Yoshops YouTube Survey-473_14_Dec_2022_updated.xlsx\")\n"
   ]
  },
  {
   "cell_type": "code",
   "execution_count": 7,
   "id": "cc51bc92",
   "metadata": {
    "scrolled": true
   },
   "outputs": [
    {
     "data": {
      "text/html": [
       "<div>\n",
       "<style scoped>\n",
       "    .dataframe tbody tr th:only-of-type {\n",
       "        vertical-align: middle;\n",
       "    }\n",
       "\n",
       "    .dataframe tbody tr th {\n",
       "        vertical-align: top;\n",
       "    }\n",
       "\n",
       "    .dataframe thead th {\n",
       "        text-align: right;\n",
       "    }\n",
       "</style>\n",
       "<table border=\"1\" class=\"dataframe\">\n",
       "  <thead>\n",
       "    <tr style=\"text-align: right;\">\n",
       "      <th></th>\n",
       "      <th>S.NO</th>\n",
       "      <th>Submission</th>\n",
       "      <th>1. Name</th>\n",
       "      <th>3. Location , City Name</th>\n",
       "      <th>4.  Tution for your Kids</th>\n",
       "      <th>5. Study in Class</th>\n",
       "      <th>6. Which Price range for Tution Monthly Fees You like must</th>\n",
       "      <th>7. Laptop and Mobile which Price range you like most</th>\n",
       "      <th>8. Do you like biriyani and which biriyani you like the most</th>\n",
       "      <th>9. What is Price Rang for 1kg Biryani  you like must</th>\n",
       "      <th>10. Which Financial products you like most</th>\n",
       "      <th>11. Any IDEA or Suggestions for Yoshops Startup</th>\n",
       "    </tr>\n",
       "  </thead>\n",
       "  <tbody>\n",
       "    <tr>\n",
       "      <th>0</th>\n",
       "      <td>1</td>\n",
       "      <td>24-11-2022</td>\n",
       "      <td>Kavita Israni</td>\n",
       "      <td>No answer</td>\n",
       "      <td>Offline Class room</td>\n",
       "      <td>No answer</td>\n",
       "      <td>Rs.501 to 999</td>\n",
       "      <td>No answer</td>\n",
       "      <td>Veg Biryani  | Paneer Tikka Biryani</td>\n",
       "      <td>149 | 199</td>\n",
       "      <td>Mutual Fund SIP (ROI 12%)-1yr</td>\n",
       "      <td>No Answer</td>\n",
       "    </tr>\n",
       "    <tr>\n",
       "      <th>1</th>\n",
       "      <td>2</td>\n",
       "      <td>24-11-2022</td>\n",
       "      <td>Kunal Anand</td>\n",
       "      <td>No answer</td>\n",
       "      <td>Offline Class room</td>\n",
       "      <td>No answer</td>\n",
       "      <td>Rs.1 to Rs.499</td>\n",
       "      <td>No answer</td>\n",
       "      <td>Chicken Biryani</td>\n",
       "      <td>149</td>\n",
       "      <td>Company Stock IPO(ROI 15%)-1yr</td>\n",
       "      <td>No Answer</td>\n",
       "    </tr>\n",
       "    <tr>\n",
       "      <th>2</th>\n",
       "      <td>3</td>\n",
       "      <td>25-11-2022</td>\n",
       "      <td>Deepak parmal</td>\n",
       "      <td>No answer</td>\n",
       "      <td>Online Zoom meeting</td>\n",
       "      <td>Graduation with Internship</td>\n",
       "      <td>Rs.1 to Rs.499</td>\n",
       "      <td>No answer</td>\n",
       "      <td>Chicken Biryani</td>\n",
       "      <td>99</td>\n",
       "      <td>Yoshops Franchise Investment(ROI 20%)-1yr</td>\n",
       "      <td>Management should be better, I Think If you wo...</td>\n",
       "    </tr>\n",
       "    <tr>\n",
       "      <th>3</th>\n",
       "      <td>4</td>\n",
       "      <td>25-11-2022</td>\n",
       "      <td>Nidhi Gupta</td>\n",
       "      <td>No answer</td>\n",
       "      <td>Online Zoom meeting  | Offline Class room</td>\n",
       "      <td>LKG to STD 5 | STD 6 to STD 10</td>\n",
       "      <td>Rs.1001 to 1499</td>\n",
       "      <td>No answer</td>\n",
       "      <td>Chicken Biryani</td>\n",
       "      <td>149</td>\n",
       "      <td>Bank FD(Rate of Interest- 7%)-1yr</td>\n",
       "      <td>No</td>\n",
       "    </tr>\n",
       "    <tr>\n",
       "      <th>4</th>\n",
       "      <td>5</td>\n",
       "      <td>25-11-2022</td>\n",
       "      <td>Rohan Pandey</td>\n",
       "      <td>No answer</td>\n",
       "      <td>Online Zoom meeting</td>\n",
       "      <td>STD 6 to STD 10</td>\n",
       "      <td>Rs.1001 to 1499</td>\n",
       "      <td>No answer</td>\n",
       "      <td>Chicken Biryani</td>\n",
       "      <td>149</td>\n",
       "      <td>Bank FD(Rate of Interest- 7%)-1yr</td>\n",
       "      <td>Marketing</td>\n",
       "    </tr>\n",
       "    <tr>\n",
       "      <th>...</th>\n",
       "      <td>...</td>\n",
       "      <td>...</td>\n",
       "      <td>...</td>\n",
       "      <td>...</td>\n",
       "      <td>...</td>\n",
       "      <td>...</td>\n",
       "      <td>...</td>\n",
       "      <td>...</td>\n",
       "      <td>...</td>\n",
       "      <td>...</td>\n",
       "      <td>...</td>\n",
       "      <td>...</td>\n",
       "    </tr>\n",
       "    <tr>\n",
       "      <th>468</th>\n",
       "      <td>469</td>\n",
       "      <td>14-12-2022</td>\n",
       "      <td>Shahid khan</td>\n",
       "      <td>Sonebhadra</td>\n",
       "      <td>Offline Class room</td>\n",
       "      <td>Graduation with Internship</td>\n",
       "      <td>Rs.1 to Rs.499 | Rs.501 to 999</td>\n",
       "      <td>Rs.5000 to Rs.15000</td>\n",
       "      <td>Veg Biryani</td>\n",
       "      <td>99 | 149</td>\n",
       "      <td>No Answer</td>\n",
       "      <td>No</td>\n",
       "    </tr>\n",
       "    <tr>\n",
       "      <th>469</th>\n",
       "      <td>470</td>\n",
       "      <td>14-12-2022</td>\n",
       "      <td>Umme Kulsoom</td>\n",
       "      <td>Bareilly</td>\n",
       "      <td>Online Zoom meeting</td>\n",
       "      <td>Post Graduation with Internship</td>\n",
       "      <td>Rs.501 to 999 | Rs.1001 to 1499</td>\n",
       "      <td>Rs15000 to Rs.30000 | Rs.31000 to Rs.50000</td>\n",
       "      <td>Chicken Biryani</td>\n",
       "      <td>199</td>\n",
       "      <td>No Answer</td>\n",
       "      <td>No</td>\n",
       "    </tr>\n",
       "    <tr>\n",
       "      <th>470</th>\n",
       "      <td>471</td>\n",
       "      <td>14-12-2022</td>\n",
       "      <td>Dinanath Patil</td>\n",
       "      <td>Mulund</td>\n",
       "      <td>Offline Class room</td>\n",
       "      <td>11th and 12th JEE preparation</td>\n",
       "      <td>Rs.501 to 999</td>\n",
       "      <td>Rs.5000 to Rs.15000</td>\n",
       "      <td>Fish Biryani</td>\n",
       "      <td>149</td>\n",
       "      <td>Post office RD (Rate of Interest- 6%)-1yr</td>\n",
       "      <td>No</td>\n",
       "    </tr>\n",
       "    <tr>\n",
       "      <th>471</th>\n",
       "      <td>472</td>\n",
       "      <td>14-12-2022</td>\n",
       "      <td>Yash vardhan singh tomar</td>\n",
       "      <td>Gwalior</td>\n",
       "      <td>Online Zoom meeting  | Offline Class room</td>\n",
       "      <td>Graduation with Internship</td>\n",
       "      <td>Rs.1001 to 1499 | Rs.1501 to 1999</td>\n",
       "      <td>Rs.31000 to Rs.50000 | Rs.51000 to Rs.100000</td>\n",
       "      <td>Veg Biryani</td>\n",
       "      <td>149 | 199</td>\n",
       "      <td>Mutual Fund SIP (ROI 12%)-1yr</td>\n",
       "      <td>Good company</td>\n",
       "    </tr>\n",
       "    <tr>\n",
       "      <th>472</th>\n",
       "      <td>473</td>\n",
       "      <td>14-12-2022</td>\n",
       "      <td>Sanjay</td>\n",
       "      <td>Ghatkopar</td>\n",
       "      <td>Offline Class room</td>\n",
       "      <td>11th and 12th JEE preparation</td>\n",
       "      <td>Rs.1501 to 1999</td>\n",
       "      <td>Rs.31000 to Rs.50000</td>\n",
       "      <td>Chicken Biryani  | Paneer Tikka Biryani</td>\n",
       "      <td>199 | 249</td>\n",
       "      <td>Mutual Fund SIP (ROI 12%)-1yr | Company Stock ...</td>\n",
       "      <td>No</td>\n",
       "    </tr>\n",
       "  </tbody>\n",
       "</table>\n",
       "<p>473 rows × 12 columns</p>\n",
       "</div>"
      ],
      "text/plain": [
       "     S.NO  Submission                   1. Name 3. Location , City Name  \\\n",
       "0       1  24-11-2022             Kavita Israni               No answer   \n",
       "1       2  24-11-2022               Kunal Anand               No answer   \n",
       "2       3  25-11-2022             Deepak parmal               No answer   \n",
       "3       4  25-11-2022               Nidhi Gupta               No answer   \n",
       "4       5  25-11-2022              Rohan Pandey               No answer   \n",
       "..    ...         ...                       ...                     ...   \n",
       "468   469  14-12-2022               Shahid khan              Sonebhadra   \n",
       "469   470  14-12-2022              Umme Kulsoom                Bareilly   \n",
       "470   471  14-12-2022            Dinanath Patil                  Mulund   \n",
       "471   472  14-12-2022  Yash vardhan singh tomar                 Gwalior   \n",
       "472   473  14-12-2022                    Sanjay               Ghatkopar   \n",
       "\n",
       "                      4.  Tution for your Kids  \\\n",
       "0                           Offline Class room   \n",
       "1                           Offline Class room   \n",
       "2                         Online Zoom meeting    \n",
       "3    Online Zoom meeting  | Offline Class room   \n",
       "4                         Online Zoom meeting    \n",
       "..                                         ...   \n",
       "468                         Offline Class room   \n",
       "469                       Online Zoom meeting    \n",
       "470                         Offline Class room   \n",
       "471  Online Zoom meeting  | Offline Class room   \n",
       "472                         Offline Class room   \n",
       "\n",
       "                   5. Study in Class   \\\n",
       "0                           No answer   \n",
       "1                           No answer   \n",
       "2         Graduation with Internship    \n",
       "3      LKG to STD 5 | STD 6 to STD 10   \n",
       "4                     STD 6 to STD 10   \n",
       "..                                ...   \n",
       "468       Graduation with Internship    \n",
       "469  Post Graduation with Internship    \n",
       "470    11th and 12th JEE preparation    \n",
       "471       Graduation with Internship    \n",
       "472    11th and 12th JEE preparation    \n",
       "\n",
       "    6. Which Price range for Tution Monthly Fees You like must  \\\n",
       "0                                        Rs.501 to 999           \n",
       "1                                       Rs.1 to Rs.499           \n",
       "2                                       Rs.1 to Rs.499           \n",
       "3                                      Rs.1001 to 1499           \n",
       "4                                      Rs.1001 to 1499           \n",
       "..                                                 ...           \n",
       "468                     Rs.1 to Rs.499 | Rs.501 to 999           \n",
       "469                    Rs.501 to 999 | Rs.1001 to 1499           \n",
       "470                                      Rs.501 to 999           \n",
       "471                  Rs.1001 to 1499 | Rs.1501 to 1999           \n",
       "472                                    Rs.1501 to 1999           \n",
       "\n",
       "    7. Laptop and Mobile which Price range you like most  \\\n",
       "0                                            No answer     \n",
       "1                                            No answer     \n",
       "2                                            No answer     \n",
       "3                                            No answer     \n",
       "4                                            No answer     \n",
       "..                                                 ...     \n",
       "468                                Rs.5000 to Rs.15000     \n",
       "469         Rs15000 to Rs.30000 | Rs.31000 to Rs.50000     \n",
       "470                                Rs.5000 to Rs.15000     \n",
       "471       Rs.31000 to Rs.50000 | Rs.51000 to Rs.100000     \n",
       "472                               Rs.31000 to Rs.50000     \n",
       "\n",
       "    8. Do you like biriyani and which biriyani you like the most  \\\n",
       "0                 Veg Biryani  | Paneer Tikka Biryani              \n",
       "1                                     Chicken Biryani              \n",
       "2                                     Chicken Biryani              \n",
       "3                                     Chicken Biryani              \n",
       "4                                     Chicken Biryani              \n",
       "..                                                 ...             \n",
       "468                                       Veg Biryani              \n",
       "469                                   Chicken Biryani              \n",
       "470                                      Fish Biryani              \n",
       "471                                       Veg Biryani              \n",
       "472           Chicken Biryani  | Paneer Tikka Biryani              \n",
       "\n",
       "    9. What is Price Rang for 1kg Biryani  you like must   \\\n",
       "0                                            149 | 199      \n",
       "1                                                  149      \n",
       "2                                                   99      \n",
       "3                                                  149      \n",
       "4                                                  149      \n",
       "..                                                 ...      \n",
       "468                                           99 | 149      \n",
       "469                                                199      \n",
       "470                                                149      \n",
       "471                                          149 | 199      \n",
       "472                                          199 | 249      \n",
       "\n",
       "            10. Which Financial products you like most  \\\n",
       "0                        Mutual Fund SIP (ROI 12%)-1yr   \n",
       "1                       Company Stock IPO(ROI 15%)-1yr   \n",
       "2            Yoshops Franchise Investment(ROI 20%)-1yr   \n",
       "3                    Bank FD(Rate of Interest- 7%)-1yr   \n",
       "4                    Bank FD(Rate of Interest- 7%)-1yr   \n",
       "..                                                 ...   \n",
       "468                                          No Answer   \n",
       "469                                          No Answer   \n",
       "470          Post office RD (Rate of Interest- 6%)-1yr   \n",
       "471                      Mutual Fund SIP (ROI 12%)-1yr   \n",
       "472  Mutual Fund SIP (ROI 12%)-1yr | Company Stock ...   \n",
       "\n",
       "      11. Any IDEA or Suggestions for Yoshops Startup   \n",
       "0                                            No Answer  \n",
       "1                                            No Answer  \n",
       "2    Management should be better, I Think If you wo...  \n",
       "3                                                   No  \n",
       "4                                            Marketing  \n",
       "..                                                 ...  \n",
       "468                                                 No  \n",
       "469                                                 No  \n",
       "470                                                 No  \n",
       "471                                       Good company  \n",
       "472                                                 No  \n",
       "\n",
       "[473 rows x 12 columns]"
      ]
     },
     "execution_count": 7,
     "metadata": {},
     "output_type": "execute_result"
    }
   ],
   "source": [
    "df"
   ]
  },
  {
   "cell_type": "code",
   "execution_count": null,
   "id": "e24b738b",
   "metadata": {},
   "outputs": [],
   "source": []
  },
  {
   "cell_type": "markdown",
   "id": "bd3642c2",
   "metadata": {},
   "source": [
    "<b>4. Python program for Prepare Yoshops Survey and Order excel charts Like = Pie Chart and Bar Chart Weekly, Monthly and Yearly Reports.<b>"
   ]
  },
  {
   "cell_type": "code",
   "execution_count": 8,
   "id": "0448a890",
   "metadata": {},
   "outputs": [],
   "source": [
    "import pandas as pd\n",
    "import numpy as np \n",
    "import os\n",
    "import re as re\n",
    "import matplotlib.pyplot as plt\n",
    "import seaborn as sns\n",
    "%matplotlib inline\n",
    "import warnings\n",
    "warnings.filterwarnings(\"ignore\", category=FutureWarning)\n"
   ]
  },
  {
   "cell_type": "code",
   "execution_count": 9,
   "id": "15a72d28",
   "metadata": {
    "scrolled": true
   },
   "outputs": [],
   "source": [
    "url=r\"D:\\Yoshops Tasks\\Yoshops_Order_List.xlsx\""
   ]
  },
  {
   "cell_type": "code",
   "execution_count": 10,
   "id": "83125d92",
   "metadata": {},
   "outputs": [
    {
     "data": {
      "text/plain": [
       "(473, 12)"
      ]
     },
     "execution_count": 10,
     "metadata": {},
     "output_type": "execute_result"
    }
   ],
   "source": [
    "df.shape"
   ]
  },
  {
   "cell_type": "code",
   "execution_count": 11,
   "id": "e3d70b0e",
   "metadata": {},
   "outputs": [],
   "source": [
    "df1=pd.read_excel(url,sheet_name=\"Mobile\")"
   ]
  },
  {
   "cell_type": "code",
   "execution_count": 12,
   "id": "a6560e13",
   "metadata": {},
   "outputs": [
    {
     "data": {
      "text/html": [
       "<div>\n",
       "<style scoped>\n",
       "    .dataframe tbody tr th:only-of-type {\n",
       "        vertical-align: middle;\n",
       "    }\n",
       "\n",
       "    .dataframe tbody tr th {\n",
       "        vertical-align: top;\n",
       "    }\n",
       "\n",
       "    .dataframe thead th {\n",
       "        text-align: right;\n",
       "    }\n",
       "</style>\n",
       "<table border=\"1\" class=\"dataframe\">\n",
       "  <thead>\n",
       "    <tr style=\"text-align: right;\">\n",
       "      <th></th>\n",
       "      <th>Name</th>\n",
       "      <th>Address 1</th>\n",
       "      <th>Adress 2</th>\n",
       "      <th>Adress 3</th>\n",
       "      <th>City</th>\n",
       "      <th>pincode</th>\n",
       "      <th>state</th>\n",
       "    </tr>\n",
       "  </thead>\n",
       "  <tbody>\n",
       "    <tr>\n",
       "      <th>0</th>\n",
       "      <td>HARMESH RANI GABA</td>\n",
       "      <td>316 JAGRATI ENCLAVE</td>\n",
       "      <td>0</td>\n",
       "      <td>0</td>\n",
       "      <td>NEWDELHI</td>\n",
       "      <td>110092.0</td>\n",
       "      <td>DELHI</td>\n",
       "    </tr>\n",
       "    <tr>\n",
       "      <th>1</th>\n",
       "      <td>B KRISHNA BAI</td>\n",
       "      <td>204 CHITRAPUR HSG SOCIETY</td>\n",
       "      <td>15TH CROSS RD MALLESWARAM</td>\n",
       "      <td>BANGALORE</td>\n",
       "      <td>BANGALORE</td>\n",
       "      <td>560055.0</td>\n",
       "      <td>KARNATAKA</td>\n",
       "    </tr>\n",
       "    <tr>\n",
       "      <th>2</th>\n",
       "      <td>GANGA SHREEDHAR</td>\n",
       "      <td>6 NUNGAMBAKKAM HIGH RD</td>\n",
       "      <td>MADRAS</td>\n",
       "      <td>0</td>\n",
       "      <td>CHENNAI</td>\n",
       "      <td>600034.0</td>\n",
       "      <td>TAMIL NADU</td>\n",
       "    </tr>\n",
       "    <tr>\n",
       "      <th>3</th>\n",
       "      <td>JOHN PINTO</td>\n",
       "      <td>NaN</td>\n",
       "      <td>NaN</td>\n",
       "      <td>NaN</td>\n",
       "      <td>NaN</td>\n",
       "      <td>NaN</td>\n",
       "      <td>NaN</td>\n",
       "    </tr>\n",
       "    <tr>\n",
       "      <th>4</th>\n",
       "      <td>ROBIN GHOSH</td>\n",
       "      <td>C-O MR JOY DEEP KAR ADVOCATE</td>\n",
       "      <td>7 OLD POST OFFICE STREET</td>\n",
       "      <td>0</td>\n",
       "      <td>KOLKATTA</td>\n",
       "      <td>700001.0</td>\n",
       "      <td>WEST BENGAL</td>\n",
       "    </tr>\n",
       "    <tr>\n",
       "      <th>...</th>\n",
       "      <td>...</td>\n",
       "      <td>...</td>\n",
       "      <td>...</td>\n",
       "      <td>...</td>\n",
       "      <td>...</td>\n",
       "      <td>...</td>\n",
       "      <td>...</td>\n",
       "    </tr>\n",
       "    <tr>\n",
       "      <th>366</th>\n",
       "      <td>VIJAYA ANANTHA NARAYANAN</td>\n",
       "      <td>A-3 SHREYAS APARTMENTS</td>\n",
       "      <td>C O D ROAD MALAD E</td>\n",
       "      <td>0</td>\n",
       "      <td>MUMBAI</td>\n",
       "      <td>400097.0</td>\n",
       "      <td>MAHARASHTRA</td>\n",
       "    </tr>\n",
       "    <tr>\n",
       "      <th>367</th>\n",
       "      <td>SULAXANA PRATAPRAI VYAS</td>\n",
       "      <td>204 CHANDRALOK A</td>\n",
       "      <td>97 NEAPEAN SEA ROAD</td>\n",
       "      <td>0</td>\n",
       "      <td>MUMBAI</td>\n",
       "      <td>400006.0</td>\n",
       "      <td>MAHARASHTRA</td>\n",
       "    </tr>\n",
       "    <tr>\n",
       "      <th>368</th>\n",
       "      <td>S B MOHANTY</td>\n",
       "      <td>217 GANESHNAGAR ADARSH C H S</td>\n",
       "      <td>TITWALA P O MANDA</td>\n",
       "      <td>TAL KALYAN DIST THANE</td>\n",
       "      <td>THANE</td>\n",
       "      <td>421605.0</td>\n",
       "      <td>MAHARASHTRA</td>\n",
       "    </tr>\n",
       "    <tr>\n",
       "      <th>369</th>\n",
       "      <td>JAYSHREE MODI</td>\n",
       "      <td>C 4 YESHWANT CO OP HSG SOC</td>\n",
       "      <td>236 NATH PAI NAGAR</td>\n",
       "      <td>GHATKOPAR EAST</td>\n",
       "      <td>MUMBAI</td>\n",
       "      <td>400077.0</td>\n",
       "      <td>MAHARASHTRA</td>\n",
       "    </tr>\n",
       "    <tr>\n",
       "      <th>370</th>\n",
       "      <td>SHAILESH K PUJARA  H U F</td>\n",
       "      <td>54-10 NEELKANTH PRAKASH</td>\n",
       "      <td>GARODIA NAGAR  GHATKOPAR EAST</td>\n",
       "      <td>0</td>\n",
       "      <td>MUMBAI</td>\n",
       "      <td>400077.0</td>\n",
       "      <td>MAHARASHTRA</td>\n",
       "    </tr>\n",
       "  </tbody>\n",
       "</table>\n",
       "<p>371 rows × 7 columns</p>\n",
       "</div>"
      ],
      "text/plain": [
       "                         Name                     Address 1  \\\n",
       "0           HARMESH RANI GABA           316 JAGRATI ENCLAVE   \n",
       "1               B KRISHNA BAI     204 CHITRAPUR HSG SOCIETY   \n",
       "2             GANGA SHREEDHAR        6 NUNGAMBAKKAM HIGH RD   \n",
       "3                  JOHN PINTO                           NaN   \n",
       "4                 ROBIN GHOSH  C-O MR JOY DEEP KAR ADVOCATE   \n",
       "..                        ...                           ...   \n",
       "366  VIJAYA ANANTHA NARAYANAN        A-3 SHREYAS APARTMENTS   \n",
       "367   SULAXANA PRATAPRAI VYAS              204 CHANDRALOK A   \n",
       "368               S B MOHANTY  217 GANESHNAGAR ADARSH C H S   \n",
       "369             JAYSHREE MODI    C 4 YESHWANT CO OP HSG SOC   \n",
       "370  SHAILESH K PUJARA  H U F       54-10 NEELKANTH PRAKASH   \n",
       "\n",
       "                          Adress 2               Adress 3       City  \\\n",
       "0                                0                      0   NEWDELHI   \n",
       "1        15TH CROSS RD MALLESWARAM              BANGALORE  BANGALORE   \n",
       "2                           MADRAS                      0    CHENNAI   \n",
       "3                              NaN                    NaN        NaN   \n",
       "4         7 OLD POST OFFICE STREET                      0   KOLKATTA   \n",
       "..                             ...                    ...        ...   \n",
       "366             C O D ROAD MALAD E                      0     MUMBAI   \n",
       "367            97 NEAPEAN SEA ROAD                      0     MUMBAI   \n",
       "368              TITWALA P O MANDA  TAL KALYAN DIST THANE      THANE   \n",
       "369             236 NATH PAI NAGAR         GHATKOPAR EAST     MUMBAI   \n",
       "370  GARODIA NAGAR  GHATKOPAR EAST                      0     MUMBAI   \n",
       "\n",
       "      pincode        state  \n",
       "0    110092.0        DELHI  \n",
       "1    560055.0    KARNATAKA  \n",
       "2    600034.0   TAMIL NADU  \n",
       "3         NaN          NaN  \n",
       "4    700001.0  WEST BENGAL  \n",
       "..        ...          ...  \n",
       "366  400097.0  MAHARASHTRA  \n",
       "367  400006.0  MAHARASHTRA  \n",
       "368  421605.0  MAHARASHTRA  \n",
       "369  400077.0  MAHARASHTRA  \n",
       "370  400077.0  MAHARASHTRA  \n",
       "\n",
       "[371 rows x 7 columns]"
      ]
     },
     "execution_count": 12,
     "metadata": {},
     "output_type": "execute_result"
    }
   ],
   "source": [
    "df1"
   ]
  },
  {
   "cell_type": "code",
   "execution_count": 13,
   "id": "a734fb01",
   "metadata": {},
   "outputs": [
    {
     "data": {
      "text/plain": [
       "Name         0\n",
       "Address 1    1\n",
       "Adress 2     1\n",
       "Adress 3     1\n",
       "City         1\n",
       "pincode      1\n",
       "state        1\n",
       "dtype: int64"
      ]
     },
     "execution_count": 13,
     "metadata": {},
     "output_type": "execute_result"
    }
   ],
   "source": [
    "df1.isnull().sum()"
   ]
  },
  {
   "cell_type": "code",
   "execution_count": 14,
   "id": "4514e3d5",
   "metadata": {},
   "outputs": [],
   "source": [
    "df1_Customers=df1.groupby(['state'])['Name'].size().abs()"
   ]
  },
  {
   "cell_type": "code",
   "execution_count": 15,
   "id": "aba54a0e",
   "metadata": {},
   "outputs": [],
   "source": [
    "State=df1.state.unique()"
   ]
  },
  {
   "cell_type": "code",
   "execution_count": 16,
   "id": "41c9711d",
   "metadata": {},
   "outputs": [
    {
     "data": {
      "text/plain": [
       "array(['DELHI', 'KARNATAKA', 'TAMIL NADU', nan, 'WEST BENGAL',\n",
       "       'MAHARASHTRA', 'GUJARAT', 'ORISSA', 'UTTAR PRADESH', 'UTTARANCHAL',\n",
       "       'KERALA', 'BIHAR', 'MADHYA PRADESH', 'GOA', 'HARYANA', 'JHARKHAND',\n",
       "       'RAJASTHAN'], dtype=object)"
      ]
     },
     "execution_count": 16,
     "metadata": {},
     "output_type": "execute_result"
    }
   ],
   "source": [
    "State"
   ]
  },
  {
   "cell_type": "code",
   "execution_count": 17,
   "id": "1db8db13",
   "metadata": {},
   "outputs": [
    {
     "data": {
      "text/plain": [
       "<AxesSubplot:title={'center':'Customer'}, xlabel='State', ylabel='Name'>"
      ]
     },
     "execution_count": 17,
     "metadata": {},
     "output_type": "execute_result"
    },
    {
     "data": {
      "image/png": "[encoded data removed]",
      "text/plain": [
       "<Figure size 1200x600 with 1 Axes>"
      ]
     },
     "metadata": {},
     "output_type": "display_data"
    }
   ],
   "source": [
    "df1_Customers.plot(kind='bar', title='Customer', ylabel='Name',\n",
    "         xlabel='State', figsize=(12, 6))"
   ]
  },
  {
   "cell_type": "code",
   "execution_count": 18,
   "id": "52c40065",
   "metadata": {},
   "outputs": [],
   "source": [
    "Toys=pd.read_excel(url,sheet_name=\"Toys\",header=1)"
   ]
  },
  {
   "cell_type": "code",
   "execution_count": 19,
   "id": "e3323ca6",
   "metadata": {},
   "outputs": [],
   "source": [
    "city_toys=Toys.groupby(['City'])[\"Name\"].size().nlargest(10)"
   ]
  },
  {
   "cell_type": "code",
   "execution_count": 20,
   "id": "7ec84f65",
   "metadata": {},
   "outputs": [
    {
     "data": {
      "text/plain": [
       "City\n",
       "Mumbai        3134\n",
       "Bangalore     2617\n",
       "Hyderabad     2613\n",
       "Chittoor      2470\n",
       "ANANTHAPUR    2454\n",
       "Bengaluru     2216\n",
       "New Delhi     1913\n",
       "CHITTOOR      1843\n",
       "Nizamabad     1788\n",
       "MUMBAI        1763\n",
       "Name: Name, dtype: int64"
      ]
     },
     "execution_count": 20,
     "metadata": {},
     "output_type": "execute_result"
    }
   ],
   "source": [
    "city_toys"
   ]
  },
  {
   "cell_type": "code",
   "execution_count": 21,
   "id": "cc3087e2",
   "metadata": {},
   "outputs": [
    {
     "data": {
      "text/plain": [
       "<AxesSubplot:title={'center':'Customer'}, xlabel='City', ylabel='Name'>"
      ]
     },
     "execution_count": 21,
     "metadata": {},
     "output_type": "execute_result"
    },
    {
     "data": {
      "image/png": "[encoded data removed]",
      "text/plain": [
       "<Figure size 1000x800 with 1 Axes>"
      ]
     },
     "metadata": {},
     "output_type": "display_data"
    }
   ],
   "source": [
    "city_toys.plot(kind='bar', title='Customer', ylabel='Name',\n",
    "         xlabel='City', figsize=(10, 8))"
   ]
  },
  {
   "cell_type": "code",
   "execution_count": 22,
   "id": "4bc9f62b",
   "metadata": {},
   "outputs": [
    {
     "data": {
      "text/plain": [
       "MAHARASHTRA       245\n",
       "GUJARAT            47\n",
       "WEST BENGAL        21\n",
       "KARNATAKA          11\n",
       "TAMIL NADU         11\n",
       "DELHI               9\n",
       "BIHAR               7\n",
       "UTTAR PRADESH       5\n",
       "JHARKHAND           4\n",
       "MADHYA PRADESH      3\n",
       "Name: state, dtype: int64"
      ]
     },
     "execution_count": 22,
     "metadata": {},
     "output_type": "execute_result"
    }
   ],
   "source": [
    "df1.state.value_counts().nlargest(10)"
   ]
  },
  {
   "cell_type": "code",
   "execution_count": 23,
   "id": "7ac64011",
   "metadata": {},
   "outputs": [],
   "source": [
    "Online_class=pd.read_excel(url,sheet_name=\"Online Class\")"
   ]
  },
  {
   "cell_type": "code",
   "execution_count": 24,
   "id": "4b3174ff",
   "metadata": {},
   "outputs": [
    {
     "data": {
      "text/html": [
       "<div>\n",
       "<style scoped>\n",
       "    .dataframe tbody tr th:only-of-type {\n",
       "        vertical-align: middle;\n",
       "    }\n",
       "\n",
       "    .dataframe tbody tr th {\n",
       "        vertical-align: top;\n",
       "    }\n",
       "\n",
       "    .dataframe thead th {\n",
       "        text-align: right;\n",
       "    }\n",
       "</style>\n",
       "<table border=\"1\" class=\"dataframe\">\n",
       "  <thead>\n",
       "    <tr style=\"text-align: right;\">\n",
       "      <th></th>\n",
       "      <th>Account Name</th>\n",
       "      <th>Address 1</th>\n",
       "      <th>Adress 2</th>\n",
       "      <th>City</th>\n",
       "      <th>PIN Code</th>\n",
       "      <th>State</th>\n",
       "      <th>amount</th>\n",
       "    </tr>\n",
       "  </thead>\n",
       "  <tbody>\n",
       "    <tr>\n",
       "      <th>0</th>\n",
       "      <td>REVENUE DIVISIONAL OFFICER</td>\n",
       "      <td>NaN</td>\n",
       "      <td>NaN</td>\n",
       "      <td>MAHATMA GANDHI ROAD, VIJAYAWADA (PADMAVATHI HO...</td>\n",
       "      <td>NaN</td>\n",
       "      <td>ANDHRA PRADESH</td>\n",
       "      <td>NaN</td>\n",
       "    </tr>\n",
       "    <tr>\n",
       "      <th>1</th>\n",
       "      <td>A.KARUNA SHREE</td>\n",
       "      <td>NaN</td>\n",
       "      <td>NaN</td>\n",
       "      <td>MAHATMA GANDHI ROAD, VIJAYAWADA (PADMAVATHI HO...</td>\n",
       "      <td>NaN</td>\n",
       "      <td>ANDHRA PRADESH</td>\n",
       "      <td>NaN</td>\n",
       "    </tr>\n",
       "    <tr>\n",
       "      <th>2</th>\n",
       "      <td>T RAMA RAO</td>\n",
       "      <td>NaN</td>\n",
       "      <td>NaN</td>\n",
       "      <td>MAHATMA GANDHI ROAD, VIJAYAWADA (PADMAVATHI HO...</td>\n",
       "      <td>NaN</td>\n",
       "      <td>ANDHRA PRADESH</td>\n",
       "      <td>NaN</td>\n",
       "    </tr>\n",
       "    <tr>\n",
       "      <th>3</th>\n",
       "      <td>MULLAPATI SATYAVANI</td>\n",
       "      <td>NaN</td>\n",
       "      <td>NaN</td>\n",
       "      <td>MAHATMA GANDHI ROAD, VIJAYAWADA (PADMAVATHI HO...</td>\n",
       "      <td>NaN</td>\n",
       "      <td>ANDHRA PRADESH</td>\n",
       "      <td>NaN</td>\n",
       "    </tr>\n",
       "    <tr>\n",
       "      <th>4</th>\n",
       "      <td>KESAMNENI ANNAPOORNA,</td>\n",
       "      <td>NaN</td>\n",
       "      <td>NaN</td>\n",
       "      <td>MAHATMA GANDHI ROAD, VIJAYAWADA (PADMAVATHI HO...</td>\n",
       "      <td>NaN</td>\n",
       "      <td>ANDHRA PRADESH</td>\n",
       "      <td>NaN</td>\n",
       "    </tr>\n",
       "  </tbody>\n",
       "</table>\n",
       "</div>"
      ],
      "text/plain": [
       "                 Account Name  Address 1  Adress 2  \\\n",
       "0  REVENUE DIVISIONAL OFFICER        NaN       NaN   \n",
       "1              A.KARUNA SHREE        NaN       NaN   \n",
       "2                  T RAMA RAO        NaN       NaN   \n",
       "3         MULLAPATI SATYAVANI        NaN       NaN   \n",
       "4       KESAMNENI ANNAPOORNA,        NaN       NaN   \n",
       "\n",
       "                                                City  PIN Code  \\\n",
       "0  MAHATMA GANDHI ROAD, VIJAYAWADA (PADMAVATHI HO...       NaN   \n",
       "1  MAHATMA GANDHI ROAD, VIJAYAWADA (PADMAVATHI HO...       NaN   \n",
       "2  MAHATMA GANDHI ROAD, VIJAYAWADA (PADMAVATHI HO...       NaN   \n",
       "3  MAHATMA GANDHI ROAD, VIJAYAWADA (PADMAVATHI HO...       NaN   \n",
       "4  MAHATMA GANDHI ROAD, VIJAYAWADA (PADMAVATHI HO...       NaN   \n",
       "\n",
       "            State  amount  \n",
       "0  ANDHRA PRADESH     NaN  \n",
       "1  ANDHRA PRADESH     NaN  \n",
       "2  ANDHRA PRADESH     NaN  \n",
       "3  ANDHRA PRADESH     NaN  \n",
       "4  ANDHRA PRADESH     NaN  "
      ]
     },
     "execution_count": 24,
     "metadata": {},
     "output_type": "execute_result"
    }
   ],
   "source": [
    "Online_class.head()"
   ]
  },
  {
   "cell_type": "code",
   "execution_count": 25,
   "id": "f72b0343",
   "metadata": {},
   "outputs": [],
   "source": [
    "Online_class.dropna(axis=1,how='all', thresh=None, subset=None, inplace=True)"
   ]
  },
  {
   "cell_type": "code",
   "execution_count": 26,
   "id": "4efe8d17",
   "metadata": {},
   "outputs": [
    {
     "data": {
      "text/html": [
       "<div>\n",
       "<style scoped>\n",
       "    .dataframe tbody tr th:only-of-type {\n",
       "        vertical-align: middle;\n",
       "    }\n",
       "\n",
       "    .dataframe tbody tr th {\n",
       "        vertical-align: top;\n",
       "    }\n",
       "\n",
       "    .dataframe thead th {\n",
       "        text-align: right;\n",
       "    }\n",
       "</style>\n",
       "<table border=\"1\" class=\"dataframe\">\n",
       "  <thead>\n",
       "    <tr style=\"text-align: right;\">\n",
       "      <th></th>\n",
       "      <th>Account Name</th>\n",
       "      <th>City</th>\n",
       "      <th>State</th>\n",
       "    </tr>\n",
       "  </thead>\n",
       "  <tbody>\n",
       "    <tr>\n",
       "      <th>0</th>\n",
       "      <td>REVENUE DIVISIONAL OFFICER</td>\n",
       "      <td>MAHATMA GANDHI ROAD, VIJAYAWADA (PADMAVATHI HO...</td>\n",
       "      <td>ANDHRA PRADESH</td>\n",
       "    </tr>\n",
       "    <tr>\n",
       "      <th>1</th>\n",
       "      <td>A.KARUNA SHREE</td>\n",
       "      <td>MAHATMA GANDHI ROAD, VIJAYAWADA (PADMAVATHI HO...</td>\n",
       "      <td>ANDHRA PRADESH</td>\n",
       "    </tr>\n",
       "    <tr>\n",
       "      <th>2</th>\n",
       "      <td>T RAMA RAO</td>\n",
       "      <td>MAHATMA GANDHI ROAD, VIJAYAWADA (PADMAVATHI HO...</td>\n",
       "      <td>ANDHRA PRADESH</td>\n",
       "    </tr>\n",
       "    <tr>\n",
       "      <th>3</th>\n",
       "      <td>MULLAPATI SATYAVANI</td>\n",
       "      <td>MAHATMA GANDHI ROAD, VIJAYAWADA (PADMAVATHI HO...</td>\n",
       "      <td>ANDHRA PRADESH</td>\n",
       "    </tr>\n",
       "    <tr>\n",
       "      <th>4</th>\n",
       "      <td>KESAMNENI ANNAPOORNA,</td>\n",
       "      <td>MAHATMA GANDHI ROAD, VIJAYAWADA (PADMAVATHI HO...</td>\n",
       "      <td>ANDHRA PRADESH</td>\n",
       "    </tr>\n",
       "  </tbody>\n",
       "</table>\n",
       "</div>"
      ],
      "text/plain": [
       "                 Account Name  \\\n",
       "0  REVENUE DIVISIONAL OFFICER   \n",
       "1              A.KARUNA SHREE   \n",
       "2                  T RAMA RAO   \n",
       "3         MULLAPATI SATYAVANI   \n",
       "4       KESAMNENI ANNAPOORNA,   \n",
       "\n",
       "                                                City           State  \n",
       "0  MAHATMA GANDHI ROAD, VIJAYAWADA (PADMAVATHI HO...  ANDHRA PRADESH  \n",
       "1  MAHATMA GANDHI ROAD, VIJAYAWADA (PADMAVATHI HO...  ANDHRA PRADESH  \n",
       "2  MAHATMA GANDHI ROAD, VIJAYAWADA (PADMAVATHI HO...  ANDHRA PRADESH  \n",
       "3  MAHATMA GANDHI ROAD, VIJAYAWADA (PADMAVATHI HO...  ANDHRA PRADESH  \n",
       "4  MAHATMA GANDHI ROAD, VIJAYAWADA (PADMAVATHI HO...  ANDHRA PRADESH  "
      ]
     },
     "execution_count": 26,
     "metadata": {},
     "output_type": "execute_result"
    }
   ],
   "source": [
    "Online_class.head()"
   ]
  },
  {
   "cell_type": "code",
   "execution_count": 27,
   "id": "2d972ee7",
   "metadata": {},
   "outputs": [],
   "source": [
    "city=Online_class.City.unique()"
   ]
  },
  {
   "cell_type": "code",
   "execution_count": 28,
   "id": "8bc5aa55",
   "metadata": {},
   "outputs": [],
   "source": [
    "State_value=Online_class.State.unique()"
   ]
  },
  {
   "cell_type": "code",
   "execution_count": 29,
   "id": "7b65f878",
   "metadata": {},
   "outputs": [
    {
     "data": {
      "text/plain": [
       "array(['ANDHRA PRADESH', 'TELANGANA', 'DELHI', 'HARYANA', 'MAHARASHTRA',\n",
       "       'GUJARAT', 'BIHAR', 'UTTAR PRADESH', 'ORISSA', 'WEST BENGAL',\n",
       "       'CHANDIGARH', 'KERALA', 'PUNJAB', 'MADHYA PRADESH', 'GOA',\n",
       "       'RAJASTHAN', 'PUDUCHERRY', 'TAMILNADU', 'KARNATAKA'], dtype=object)"
      ]
     },
     "execution_count": 29,
     "metadata": {},
     "output_type": "execute_result"
    }
   ],
   "source": [
    "State_value"
   ]
  },
  {
   "cell_type": "code",
   "execution_count": 30,
   "id": "e25c46fa",
   "metadata": {},
   "outputs": [
    {
     "data": {
      "text/plain": [
       "ACTO HANAMKONDA                 83\n",
       "ACTO I KARIMNAGAR               49\n",
       "EXECUTIVE OFFICER               48\n",
       "PRINCIPAL JUNIOR CIVIL JUDGE    44\n",
       "ACTO II KARIMNAGAR              39\n",
       "                                ..\n",
       "B SASHIKALA                      1\n",
       "B SASIKALA                       1\n",
       "B Sathyanarayana                 1\n",
       "B SATHYANARAYANA LF 80/16        1\n",
       "ZYDUS PHARMA                     1\n",
       "Name: Account Name, Length: 150492, dtype: int64"
      ]
     },
     "execution_count": 30,
     "metadata": {},
     "output_type": "execute_result"
    }
   ],
   "source": [
    "Account_holder=Online_class[\"Account Name\"].value_counts()\n",
    "Account_holder"
   ]
  },
  {
   "cell_type": "code",
   "execution_count": 31,
   "id": "644e399f",
   "metadata": {},
   "outputs": [
    {
     "data": {
      "text/plain": [
       "([<matplotlib.patches.Wedge at 0x25c247596a0>,\n",
       "  <matplotlib.patches.Wedge at 0x25c24759dc0>,\n",
       "  <matplotlib.patches.Wedge at 0x25c265bc520>,\n",
       "  <matplotlib.patches.Wedge at 0x25c265bcc40>,\n",
       "  <matplotlib.patches.Wedge at 0x25c265893a0>,\n",
       "  <matplotlib.patches.Wedge at 0x25c26589ac0>,\n",
       "  <matplotlib.patches.Wedge at 0x25c26595220>,\n",
       "  <matplotlib.patches.Wedge at 0x25c26595940>,\n",
       "  <matplotlib.patches.Wedge at 0x25c265a90a0>,\n",
       "  <matplotlib.patches.Wedge at 0x25c265a97c0>],\n",
       " [Text(0.8937809334005918, 0.6412141943918327, 'ANDHRA PRADESH'),\n",
       "  Text(-0.045349020088905394, 1.0990648144568074, 'TELANGANA'),\n",
       "  Text(-0.7645855130470348, 0.7908280427745356, 'DELHI'),\n",
       "  Text(-1.0930504105191774, 0.12345363528004374, 'HARYANA'),\n",
       "  Text(-0.9600980233054592, -0.5368535979621912, 'MAHARASHTRA'),\n",
       "  Text(-0.5114763359796779, -0.9738541768318314, 'GUJARAT'),\n",
       "  Text(0.07005733014298224, -1.0977668106174632, 'BIHAR'),\n",
       "  Text(0.5689358731423637, -0.9414414332563319, 'UTTAR PRADESH'),\n",
       "  Text(0.9079767710240082, -0.6209494208716326, 'ORISSA'),\n",
       "  Text(1.0791644397471654, -0.2130824065594966, 'WEST BENGAL')],\n",
       " [Text(0.4875168727639591, 0.34975319694099966, '19.81%'),\n",
       "  Text(-0.024735829139402938, 0.5994898987946221, '11.69%'),\n",
       "  Text(-0.41704664348020076, 0.4313607506042921, '11.46%'),\n",
       "  Text(-0.5962093148286421, 0.06733834651638748, '10.50%'),\n",
       "  Text(-0.5236898308938868, -0.2928292352521043, '9.31%'),\n",
       "  Text(-0.27898709235255154, -0.5311931873628171, '9.07%'),\n",
       "  Text(0.03821308916889939, -0.5987818967004345, '8.35%'),\n",
       "  Text(0.31032865807765286, -0.5135135090489082, '6.92%'),\n",
       "  Text(0.4952600569221862, -0.33869968411179957, '6.68%'),\n",
       "  Text(0.5886351489529993, -0.11622676721427086, '6.21%')])"
      ]
     },
     "execution_count": 31,
     "metadata": {},
     "output_type": "execute_result"
    },
    {
     "data": {
      "image/png": "[encoded data removed]",
      "text/plain": [
       "<Figure size 640x480 with 1 Axes>"
      ]
     },
     "metadata": {},
     "output_type": "display_data"
    }
   ],
   "source": [
    "plt.pie(Account_holder[:10],labels=State_value[:10],autopct='%1.2f%%')"
   ]
  },
  {
   "cell_type": "code",
   "execution_count": 32,
   "id": "1d246e6d",
   "metadata": {},
   "outputs": [
    {
     "data": {
      "text/plain": [
       "([<matplotlib.patches.Wedge at 0x25c265dd670>,\n",
       "  <matplotlib.patches.Wedge at 0x25c265ddc70>,\n",
       "  <matplotlib.patches.Wedge at 0x25c265e53d0>,\n",
       "  <matplotlib.patches.Wedge at 0x25c265e5af0>,\n",
       "  <matplotlib.patches.Wedge at 0x25c265ec250>,\n",
       "  <matplotlib.patches.Wedge at 0x25c265ec970>,\n",
       "  <matplotlib.patches.Wedge at 0x25c265e60d0>,\n",
       "  <matplotlib.patches.Wedge at 0x25c265e67f0>,\n",
       "  <matplotlib.patches.Wedge at 0x25c265e6f10>,\n",
       "  <matplotlib.patches.Wedge at 0x25c2660f670>],\n",
       " [Text(0.8937809334005918, 0.6412141943918327, 'MAHATMA GANDHI ROAD, VIJAYAWADA (PADMAVATHI HOSPITAL)'),\n",
       "  Text(-0.045349020088905394, 1.0990648144568074, 'PENUGONDA (Z.N.V.R. HIGH SCHOOL) '),\n",
       "  Text(-0.7645855130470348, 0.7908280427745356, 'BHEL TOWNSHIP (MIG BHEL)'),\n",
       "  Text(-1.0930504105191774, 0.12345363528004374, 'SANTIPURAM (SPOT TRADING CENTRE)'),\n",
       "  Text(-0.9600980233054592, -0.5368535979621912, 'PARVATHIPURAM'),\n",
       "  Text(-0.5114763359796779, -0.9738541768318314, 'MADHAPUR'),\n",
       "  Text(0.07005733014298224, -1.0977668106174632, 'DWARAKANAGAR'),\n",
       "  Text(0.5689358731423637, -0.9414414332563319, 'VIDYANAGAR (RING ROAD)'),\n",
       "  Text(0.9079767710240082, -0.6209494208716326, 'LALITHANAGAR'),\n",
       "  Text(1.0791644397471654, -0.2130824065594966, 'LABBIPET (NALANDA COLLEGE OF SCIENCE)')],\n",
       " [Text(0.4875168727639591, 0.34975319694099966, '19.81%'),\n",
       "  Text(-0.024735829139402938, 0.5994898987946221, '11.69%'),\n",
       "  Text(-0.41704664348020076, 0.4313607506042921, '11.46%'),\n",
       "  Text(-0.5962093148286421, 0.06733834651638748, '10.50%'),\n",
       "  Text(-0.5236898308938868, -0.2928292352521043, '9.31%'),\n",
       "  Text(-0.27898709235255154, -0.5311931873628171, '9.07%'),\n",
       "  Text(0.03821308916889939, -0.5987818967004345, '8.35%'),\n",
       "  Text(0.31032865807765286, -0.5135135090489082, '6.92%'),\n",
       "  Text(0.4952600569221862, -0.33869968411179957, '6.68%'),\n",
       "  Text(0.5886351489529993, -0.11622676721427086, '6.21%')])"
      ]
     },
     "execution_count": 32,
     "metadata": {},
     "output_type": "execute_result"
    },
    {
     "data": {
      "image/png": "[encoded data removed]",
      "text/plain": [
       "<Figure size 640x480 with 1 Axes>"
      ]
     },
     "metadata": {},
     "output_type": "display_data"
    }
   ],
   "source": [
    "plt.pie(Account_holder[:10],labels=city[:10],autopct='%1.2f%%')"
   ]
  },
  {
   "cell_type": "markdown",
   "id": "233df697",
   "metadata": {},
   "source": [
    "<b>5. Python program for Extract mobile no from PDF, Json and MS word file and save into MS excel<b>"
   ]
  },
  {
   "cell_type": "markdown",
   "id": "a267f80d",
   "metadata": {},
   "source": [
    "<b>Extracting Mob No. from MS word File<b>"
   ]
  },
  {
   "cell_type": "code",
   "execution_count": 33,
   "id": "591cd992",
   "metadata": {},
   "outputs": [
    {
     "name": "stdout",
     "output_type": "stream",
     "text": [
      "Requirement already satisfied: docx2txt in c:\\users\\sushant\\anaconda3\\lib\\site-packages (0.8)\n",
      "Note: you may need to restart the kernel to use updated packages.\n"
     ]
    }
   ],
   "source": [
    "\n",
    "pip install docx2txt"
   ]
  },
  {
   "cell_type": "code",
   "execution_count": 34,
   "id": "96677a00",
   "metadata": {},
   "outputs": [
    {
     "name": "stdout",
     "output_type": "stream",
     "text": [
      "8377972250\n"
     ]
    }
   ],
   "source": [
    "import docx2txt\n",
    "import re\n",
    "my_doc=docx2txt.process(r\"D:\\autoCV.docx\")\n",
    "my_doc\n",
    "pattern = re.compile(r'[789]\\d{9}]*')\n",
    "matches=pattern.finditer(my_doc)\n",
    "for match in matches:\n",
    "    print(match.group(0))\n"
   ]
  },
  {
   "cell_type": "markdown",
   "id": "4df035c0",
   "metadata": {},
   "source": [
    "<b> Extracting Mobile No. from JSon File<b>"
   ]
  },
  {
   "cell_type": "code",
   "execution_count": 35,
   "id": "ec04e62a",
   "metadata": {},
   "outputs": [],
   "source": [
    "import json\n",
    "import os as os\n",
    "import re as re\n",
    "import pandas as pd"
   ]
  },
  {
   "cell_type": "code",
   "execution_count": 36,
   "id": "3236e501",
   "metadata": {},
   "outputs": [],
   "source": [
    "path=r'D:\\Yoshops Tasks\\contact data\\1657173630381_5042579018065678\\chats\\2022'\n",
    "def get_file(path):\n",
    "    files=[]\n",
    "    file_list=[]\n",
    "    #r=root, d=directory, f=files\n",
    "    for r,d,f in os.walk(path):\n",
    "        for file in f:\n",
    "            if '.json' in file:\n",
    "                files.append(os.path.join(r,file))\n",
    "    for f in files:\n",
    "        \n",
    "        file_list.append(f)\n",
    "    return file_list\n"
   ]
  },
  {
   "cell_type": "code",
   "execution_count": 37,
   "id": "6e6a0689",
   "metadata": {},
   "outputs": [],
   "source": [
    "list_of_paths=get_file(path)"
   ]
  },
  {
   "cell_type": "code",
   "execution_count": 38,
   "id": "bf4ff0dd",
   "metadata": {},
   "outputs": [],
   "source": [
    "mob1=[]\n",
    "mob2=[]\n",
    "for i in list_of_paths:\n",
    "    with open(i,'r') as f:\n",
    "        docs=json.loads(f.read())\n",
    "    number1=''\n",
    "    dic1 = docs['messages'][0]\n",
    "    dic2 = docs['messages'][1]\n",
    "    for i in dic1['msg']:\n",
    "        if i.isdigit():\n",
    "            number1+=i\n",
    "    mob1.append(number1)\n",
    "    number2=''\n",
    "    for j in dic2['msg']:\n",
    "        if j.isdigit():\n",
    "            number2+=j\n",
    "    mob2.append(number2)\n",
    "df = pd.DataFrame.from_dict({'Yoshops':mob1,'Customers':mob2})\n",
    "df.to_excel('test.xlsx', header=True, index=False)"
   ]
  },
  {
   "cell_type": "code",
   "execution_count": 39,
   "id": "ff5c3b44",
   "metadata": {},
   "outputs": [
    {
     "data": {
      "text/plain": [
       "['919080749858',\n",
       " '919080749858',\n",
       " '919080749858',\n",
       " '919080749858',\n",
       " '919080749858',\n",
       " '919080749858',\n",
       " '919080749858',\n",
       " '919080749858',\n",
       " '919080749858',\n",
       " '919080749858',\n",
       " '919080749858',\n",
       " '919080749858',\n",
       " '919080749858',\n",
       " '919080749858',\n",
       " '919080749858',\n",
       " '919080749858',\n",
       " '919080749858',\n",
       " '919080749858',\n",
       " '919080749858',\n",
       " '919080749858']"
      ]
     },
     "execution_count": 39,
     "metadata": {},
     "output_type": "execute_result"
    }
   ],
   "source": [
    "mob1"
   ]
  },
  {
   "cell_type": "code",
   "execution_count": 40,
   "id": "e523e807",
   "metadata": {},
   "outputs": [
    {
     "data": {
      "text/plain": [
       "['8459599718',\n",
       " '9528692288',\n",
       " '9123557647',\n",
       " '8280021014',\n",
       " '9304522101',\n",
       " '6200028123',\n",
       " '03181982707',\n",
       " '9391193459',\n",
       " '9799818360',\n",
       " '9962278886',\n",
       " '9569402314',\n",
       " '8767852141',\n",
       " '8815007851',\n",
       " '7073128350',\n",
       " '6382105605',\n",
       " '08164881200',\n",
       " '8815007851',\n",
       " '9515654885',\n",
       " '9154940621',\n",
       " '7277862208']"
      ]
     },
     "execution_count": 40,
     "metadata": {},
     "output_type": "execute_result"
    }
   ],
   "source": [
    "mob2"
   ]
  },
  {
   "cell_type": "markdown",
   "id": "a4da71a0",
   "metadata": {},
   "source": [
    "<b>Extracting Mobile No. from Pdf file<b>"
   ]
  },
  {
   "cell_type": "code",
   "execution_count": 41,
   "id": "de2fd419",
   "metadata": {},
   "outputs": [
    {
     "name": "stdout",
     "output_type": "stream",
     "text": [
      "4\n",
      "Power BI Desktop\n",
      "Count of  Name by Location, City Name\n",
      "65\n",
      "1815148765555Location , City Name\n",
      "No answer\n",
      "Pune\n",
      "hyderabad\n",
      "mumbai\n",
      "Kanpur\n",
      "Madurai\n",
      "Indore\n",
      "Calicut\n",
      "Kannur\n",
      "Sangli, Maharashtra\n",
      "ThrissurTotal responses\n",
      "282\n",
      "Count of S.NO\n",
      "Count of  tution m ode\n",
      "050100150\n",
      "4. Tution for y our KidsCount of S.NO\n",
      "Offline Class\n",
      "roomOnline Zoom\n",
      "meetingNo Answ er Online and\n",
      "Offline161\n",
      "89\n",
      "16 16T u t i o n -Offline Class room Online Zoom mee… No AnswerOnline and Offli…Report for survey\n",
      "I n s i g h t s\n",
      "1)Describes tuition mode\n",
      "2)Total responses by S.No\n",
      "3)65 people didn't answer their location out of 282\n",
      "    filtered by top 10 responses\n"
     ]
    }
   ],
   "source": [
    "# importing required modules\n",
    "import PyPDF2\n",
    "\n",
    "# creating a pdf file object\n",
    "f = open('survey report pdf.pdf', 'rb')\n",
    "pdfReader = PyPDF2.PdfFileReader(f)\n",
    "\n",
    "# printing number of pages in pdf file\n",
    "print(pdfReader.numPages)\n",
    "# creating a page object\n",
    "pageone = pdfReader.getPage(0)\n",
    "\n",
    "# extracting text from page\n",
    "print(pageone.extractText())\n",
    "\n",
    "f.close()"
   ]
  },
  {
   "cell_type": "code",
   "execution_count": null,
   "id": "e3f08c12",
   "metadata": {},
   "outputs": [],
   "source": []
  }
 ],
 "metadata": {
  "kernelspec": {
   "display_name": "Python 3 (ipykernel)",
   "language": "python",
   "name": "python3"
  },
  "language_info": {
   "codemirror_mode": {
    "name": "ipython",
    "version": 3
   },
   "file_extension": ".py",
   "mimetype": "text/x-python",
   "name": "python",
   "nbconvert_exporter": "python",
   "pygments_lexer": "ipython3",
   "version": "3.9.13"
  }
 },
 "nbformat": 4,
 "nbformat_minor": 5
}
